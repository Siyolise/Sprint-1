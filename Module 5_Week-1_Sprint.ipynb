{
 "cells": [
  {
   "cell_type": "code",
   "execution_count": null,
   "metadata": {},
   "outputs": [],
   "source": [
    "#Convert DNA sequence into corresponding Amino acid sequence.\n",
    "\n",
    "inputfile = input(\"DNA.txt\")\n",
    "f = open(inputfile, \"r\")\n",
    "dna_seq = f.read()\n",
    "\n",
    "dna_seq = dna_seq.replace(\"\\n\",\"\")\n",
    "dna_seq = dna_seq.replace(\"\\r\",\"\")\n",
    "\n",
    "def translate(dna_seq):\n",
    "    table = {\n",
    "       \n",
    "        'ATA':'I', 'ATC':'I', 'ATT':'I', 'ATG':'M', \n",
    "        'ACA':'T', 'ACC':'T', 'ACG':'T', 'ACT':'T', \n",
    "        'AAC':'N', 'AAT':'N', 'AAA':'K', 'AAG':'K', \n",
    "        'AGC':'S', 'AGT':'S', 'AGA':'R', 'AGG':'R',                  \n",
    "        'CTA':'L', 'CTC':'L', 'CTG':'L', 'CTT':'L', \n",
    "        'CCA':'P', 'CCC':'P', 'CCG':'P', 'CCT':'P', \n",
    "        'CAC':'H', 'CAT':'H', 'CAA':'Q', 'CAG':'Q', \n",
    "        'CGA':'R', 'CGC':'R', 'CGG':'R', 'CGT':'R', \n",
    "        'GTA':'V', 'GTC':'V', 'GTG':'V', 'GTT':'V', \n",
    "        'GCA':'A', 'GCC':'A', 'GCG':'A', 'GCT':'A', \n",
    "        'GAC':'D', 'GAT':'D', 'GAA':'E', 'GAG':'E', \n",
    "        'GGA':'G', 'GGC':'G', 'GGG':'G', 'GGT':'G', \n",
    "        'TCA':'S', 'TCC':'S', 'TCG':'S', 'TCT':'S', \n",
    "        'TTC':'F', 'TTT':'F', 'TTA':'L', 'TTG':'L', \n",
    "        'TAC':'Y', 'TAT':'Y', 'TAA':'_', 'TAG':'_', \n",
    "        'TGC':'C', 'TGT':'C', 'TGA':'_', 'TGG':'W', \n",
    "    }\n",
    "    amino_acid_seq = \"\"\n",
    "    if len(dna_seq)%3 == 0:\n",
    "        for i in range(0,len(dna_seq),3):\n",
    "            codon = dna_seq[i:i+3]\n",
    "            amino_acid_seq += table[codon]\n",
    "            return amino_acid_seq\n",
    "    else: \n",
    "        print(\"X\")\n",
    "    \n",
    "    \n",
    "def mutate(inputfile):\n",
    "    with open(inputfile, \"r\") as f:\n",
    "        seq = f.read()\n",
    "    seq = seq.replace(\"a\",\"A\")\n",
    "    seq = seq.replace(\"a\",\"T\")\n",
    "    return seq\n",
    "                       \n",
    "\n",
    "\n",
    "def txtTranslate():\n",
    "    dna = mutate(\"normalDNA.txt\")\n",
    "    prt = mutate('mutatedDNA.txt')\n",
    "    \n",
    "p = translate(dna[20:935])\n",
    "p == prt\n",
    "    \n",
    "    "
   ]
  },
  {
   "cell_type": "code",
   "execution_count": null,
   "metadata": {},
   "outputs": [],
   "source": []
  },
  {
   "cell_type": "code",
   "execution_count": null,
   "metadata": {},
   "outputs": [],
   "source": []
  },
  {
   "cell_type": "code",
   "execution_count": null,
   "metadata": {},
   "outputs": [],
   "source": []
  }
 ],
 "metadata": {
  "kernelspec": {
   "display_name": "Python 3",
   "language": "python",
   "name": "python3"
  }
 },
 "nbformat": 4,
 "nbformat_minor": 4
}
